{
 "cells": [
  {
   "cell_type": "code",
   "execution_count": 1,
   "id": "3beec750-6c6f-4d80-9483-0079ac2e720e",
   "metadata": {},
   "outputs": [],
   "source": [
    "import numpy as np\n",
    "import matplotlib.pyplot as plt\n"
   ]
  },
  {
   "cell_type": "code",
   "execution_count": 2,
   "id": "6888583d-da93-49cb-92fa-7df5279b9a87",
   "metadata": {},
   "outputs": [],
   "source": [
    "x_train = np.array([[4.7], [2.4], [7.5], [2.1], [4.3],\n",
    "                   [7.8], [8.9], [5.2], [4.59], [2.1],\n",
    "                   [8], [5], [7.5], [5], [4],\n",
    "                   [8], [5.2], [4.9] ,[3] ,[4.7],\n",
    "                   [4], [4.8], [3.5], [2.1], [4.1]],\n",
    "                   dtype = np.float32)\n",
    "y_train = np.array([[2.6], [1.6], [3.09], [2.4], [2.4],\n",
    "                   [3.3], [2.6], [1.96], [3.13], [1.76],\n",
    "                   [3.2], [2.1], [1.6], [2.5], [2.2],\n",
    "                   [2.75], [2.4], [1.8] ,[1] ,[2],\n",
    "                   [1.6], [2.4], [2.6], [1.5], [3.1]],\n",
    "                   dtype = np.float32)"
   ]
  },
  {
   "cell_type": "code",
   "execution_count": 3,
   "id": "41c3b307-e187-43a6-a86a-eb72c107f740",
   "metadata": {},
   "outputs": [
    {
     "data": {
      "image/png": "[encoded data removed]",
      "text/plain": [
       "<Figure size 600x600 with 1 Axes>"
      ]
     },
     "metadata": {},
     "output_type": "display_data"
    }
   ],
   "source": [
    "plt.figure(figsize=(6,6))\n",
    "plt.scatter(x_train, y_train, c=\"green\", s=100, label = \"Original Data\")\n",
    "plt.show()"
   ]
  },
  {
   "cell_type": "code",
   "execution_count": 4,
   "id": "68ff3eea-7146-474a-ad5c-50f5f1887be9",
   "metadata": {},
   "outputs": [],
   "source": [
    "import torch"
   ]
  },
  {
   "cell_type": "code",
   "execution_count": 5,
   "id": "323e3a95-e211-4daa-b436-87f5bfd41af7",
   "metadata": {},
   "outputs": [
    {
     "name": "stdout",
     "output_type": "stream",
     "text": [
      "requires_grad for X_train :  False\n",
      "requires_grad for Y_train :  False\n"
     ]
    }
   ],
   "source": [
    "X_train = torch.from_numpy(x_train)\n",
    "Y_train = torch.from_numpy(y_train)\n",
    "print(\"requires_grad for X_train : \", X_train.requires_grad)\n",
    "print(\"requires_grad for Y_train : \", Y_train.requires_grad)"
   ]
  },
  {
   "cell_type": "code",
   "execution_count": 7,
   "id": "d7901a3d-1876-4f46-b7c1-dd6805f80666",
   "metadata": {},
   "outputs": [],
   "source": [
    "input_size = 1\n",
    "hidden_layer_size = 1\n",
    "output_size = 1\n",
    "learning_rate = 0.001"
   ]
  },
  {
   "cell_type": "code",
   "execution_count": 8,
   "id": "5ffe7aca-0709-4dbc-b27f-21ee906df201",
   "metadata": {},
   "outputs": [
    {
     "data": {
      "text/plain": [
       "torch.Size([1, 1])"
      ]
     },
     "execution_count": 8,
     "metadata": {},
     "output_type": "execute_result"
    }
   ],
   "source": [
    "w1 = torch.rand(input_size,\n",
    "                hidden_layer_size,\n",
    "                requires_grad=True)\n",
    "w1.shape"
   ]
  },
  {
   "cell_type": "code",
   "execution_count": 9,
   "id": "1aae3e89-00bf-4343-a052-19a69b462265",
   "metadata": {},
   "outputs": [
    {
     "data": {
      "text/plain": [
       "torch.Size([1, 1])"
      ]
     },
     "execution_count": 9,
     "metadata": {},
     "output_type": "execute_result"
    }
   ],
   "source": [
    "b1 = torch.rand(hidden_layer_size,\n",
    "                output_size,\n",
    "                requires_grad=True)\n",
    "b1.shape"
   ]
  },
  {
   "cell_type": "code",
   "execution_count": 10,
   "id": "6393d3cd-43b3-4942-bf34-a2d2e63559fd",
   "metadata": {},
   "outputs": [
    {
     "data": {
      "text/plain": [
       "tensor([[0.9188]], requires_grad=True)"
      ]
     },
     "execution_count": 10,
     "metadata": {},
     "output_type": "execute_result"
    }
   ],
   "source": [
    "w1"
   ]
  },
  {
   "cell_type": "code",
   "execution_count": 11,
   "id": "5111fe76-d5cf-4e5a-ba93-f1f9dd2fc729",
   "metadata": {},
   "outputs": [
    {
     "data": {
      "text/plain": [
       "tensor([[0.1790]], requires_grad=True)"
      ]
     },
     "execution_count": 11,
     "metadata": {},
     "output_type": "execute_result"
    }
   ],
   "source": [
    "b1"
   ]
  },
  {
   "cell_type": "code",
   "execution_count": 12,
   "id": "add1a1a9-afce-4d5c-bb44-90e330b568f4",
   "metadata": {},
   "outputs": [],
   "source": [
    "alpha = 0.8"
   ]
  },
  {
   "cell_type": "code",
   "execution_count": 13,
   "id": "6214c887-f630-4d34-8e1d-f3a5087a47e0",
   "metadata": {},
   "outputs": [
    {
     "name": "stdout",
     "output_type": "stream",
     "text": [
      "100 8.276076316833496\n",
      "200 6.9165568351745605\n",
      "300 6.556495189666748\n",
      "400 6.461134433746338\n",
      "500 6.435878753662109\n",
      "600 6.429190635681152\n",
      "700 6.427419185638428\n",
      "800 6.426949501037598\n",
      "900 6.426824569702148\n",
      "1000 6.426791667938232\n",
      "1100 6.426783561706543\n",
      "1200 6.426780700683594\n",
      "1300 6.426780700683594\n",
      "1400 6.426781177520752\n",
      "1500 6.4267802238464355\n",
      "1600 6.426780700683594\n",
      "1700 6.426780700683594\n",
      "1800 6.4267802238464355\n",
      "1900 6.4267802238464355\n",
      "2000 6.4267802238464355\n",
      "2100 6.4267802238464355\n",
      "2200 6.4267802238464355\n",
      "2300 6.4267802238464355\n",
      "2400 6.4267802238464355\n",
      "2500 6.4267802238464355\n",
      "2600 6.4267802238464355\n",
      "2700 6.4267802238464355\n",
      "2800 6.4267802238464355\n",
      "2900 6.4267802238464355\n",
      "3000 6.4267802238464355\n",
      "3100 6.4267802238464355\n",
      "3200 6.4267802238464355\n",
      "3300 6.4267802238464355\n",
      "3400 6.4267802238464355\n",
      "3500 6.4267802238464355\n",
      "3600 6.4267802238464355\n",
      "3700 6.4267802238464355\n",
      "3800 6.4267802238464355\n",
      "3900 6.4267802238464355\n",
      "4000 6.4267802238464355\n",
      "4100 6.4267802238464355\n",
      "4200 6.4267802238464355\n",
      "4300 6.4267802238464355\n",
      "4400 6.4267802238464355\n",
      "4500 6.4267802238464355\n",
      "4600 6.4267802238464355\n",
      "4700 6.4267802238464355\n",
      "4800 6.4267802238464355\n",
      "4900 6.4267802238464355\n",
      "5000 6.4267802238464355\n"
     ]
    }
   ],
   "source": [
    "for iter in range(1,5001):\n",
    "    y_pred = X_train.mm(w1).add(b1)\n",
    "    \n",
    "    rig_reg_penalty = w1.pow(2)\n",
    "    \n",
    "    loss = (y_pred - Y_train).pow(2).sum() + alpha * rig_reg_penalty\n",
    "\n",
    "    \n",
    "    if iter % 100 == 0 :\n",
    "        print(iter, loss.item())\n",
    "        \n",
    "    loss.backward()\n",
    "    \n",
    "    with torch.no_grad():\n",
    "        w1 -= learning_rate * w1.grad\n",
    "        b1 -= learning_rate * b1.grad\n",
    "        w1.grad.zero_()\n",
    "        b1.grad.zero_()"
   ]
  },
  {
   "cell_type": "code",
   "execution_count": 14,
   "id": "3dbba635-b888-45d7-95f4-6f8f9a08a6da",
   "metadata": {},
   "outputs": [
    {
     "name": "stdout",
     "output_type": "stream",
     "text": [
      "W1 :  tensor([[0.1607]], requires_grad=True) \n",
      "b1 :  tensor([[1.5105]], requires_grad=True)\n"
     ]
    }
   ],
   "source": [
    "print(\"W1 : \", w1, \"\\nb1 : \", b1)"
   ]
  },
  {
   "cell_type": "code",
   "execution_count": 15,
   "id": "a6b5ae17-04c3-4297-b6b6-c5bb45dde057",
   "metadata": {},
   "outputs": [
    {
     "data": {
      "text/plain": [
       "tensor([[4.7000],\n",
       "        [2.4000],\n",
       "        [7.5000],\n",
       "        [2.1000],\n",
       "        [4.3000],\n",
       "        [7.8000],\n",
       "        [8.9000],\n",
       "        [5.2000],\n",
       "        [4.5900],\n",
       "        [2.1000],\n",
       "        [8.0000],\n",
       "        [5.0000],\n",
       "        [7.5000],\n",
       "        [5.0000],\n",
       "        [4.0000],\n",
       "        [8.0000],\n",
       "        [5.2000],\n",
       "        [4.9000],\n",
       "        [3.0000],\n",
       "        [4.7000],\n",
       "        [4.0000],\n",
       "        [4.8000],\n",
       "        [3.5000],\n",
       "        [2.1000],\n",
       "        [4.1000]])"
      ]
     },
     "execution_count": 15,
     "metadata": {},
     "output_type": "execute_result"
    }
   ],
   "source": [
    "x_train_tensor = torch.from_numpy(x_train)\n",
    "x_train_tensor"
   ]
  },
  {
   "cell_type": "code",
   "execution_count": 16,
   "id": "6d00aca0-02ba-4f0e-b1c4-9f65657f0f93",
   "metadata": {},
   "outputs": [
    {
     "data": {
      "text/plain": [
       "tensor([[2.2657],\n",
       "        [1.8962],\n",
       "        [2.7157],\n",
       "        [1.8479],\n",
       "        [2.2015],\n",
       "        [2.7639],\n",
       "        [2.9406],\n",
       "        [2.3461],\n",
       "        [2.2481],\n",
       "        [1.8479],\n",
       "        [2.7960],\n",
       "        [2.3139],\n",
       "        [2.7157],\n",
       "        [2.3139],\n",
       "        [2.1533],\n",
       "        [2.7960],\n",
       "        [2.3461],\n",
       "        [2.2979],\n",
       "        [1.9926],\n",
       "        [2.2657],\n",
       "        [2.1533],\n",
       "        [2.2818],\n",
       "        [2.0729],\n",
       "        [1.8479],\n",
       "        [2.1693]], grad_fn=<AddBackward0>)"
      ]
     },
     "execution_count": 16,
     "metadata": {},
     "output_type": "execute_result"
    }
   ],
   "source": [
    "predicted_in_tensor = x_train_tensor.mm(w1).add(b1)\n",
    "predicted_in_tensor"
   ]
  },
  {
   "cell_type": "code",
   "execution_count": 17,
   "id": "2e9c2b5c-4189-4e6a-b02a-f09ead421879",
   "metadata": {},
   "outputs": [
    {
     "data": {
      "text/plain": [
       "array([[2.2657404],\n",
       "       [1.8961558],\n",
       "       [2.7156696],\n",
       "       [1.8479491],\n",
       "       [2.2014651],\n",
       "       [2.7638764],\n",
       "       [2.9406343],\n",
       "       [2.346085 ],\n",
       "       [2.2480648],\n",
       "       [1.8479491],\n",
       "       [2.7960143],\n",
       "       [2.3139472],\n",
       "       [2.7156696],\n",
       "       [2.3139472],\n",
       "       [2.1532583],\n",
       "       [2.7960143],\n",
       "       [2.346085 ],\n",
       "       [2.2978783],\n",
       "       [1.9925692],\n",
       "       [2.2657404],\n",
       "       [2.1532583],\n",
       "       [2.2818096],\n",
       "       [2.0729136],\n",
       "       [1.8479491],\n",
       "       [2.1693273]], dtype=float32)"
      ]
     },
     "execution_count": 17,
     "metadata": {},
     "output_type": "execute_result"
    }
   ],
   "source": [
    "predicted = predicted_in_tensor.detach().numpy()\n",
    "predicted"
   ]
  },
  {
   "cell_type": "code",
   "execution_count": 18,
   "id": "c484fc5a-6d62-4bd9-8908-1f4c1d92d7f7",
   "metadata": {},
   "outputs": [
    {
     "data": {
      "text/plain": [
       "[<matplotlib.lines.Line2D at 0x7fcee73ca710>]"
      ]
     },
     "execution_count": 18,
     "metadata": {},
     "output_type": "execute_result"
    },
    {
     "data": {
      "image/png": "[encoded data removed]",
      "text/plain": [
       "<Figure size 600x600 with 1 Axes>"
      ]
     },
     "metadata": {},
     "output_type": "display_data"
    }
   ],
   "source": [
    "plt.figure(figsize=(6,6))\n",
    "plt.scatter(x_train, y_train, c=\"green\", s=150, label=\"Original Data\")\n",
    "plt.plot(x_train, predicted, label=\"Fitted Line\") "
   ]
  },
  {
   "cell_type": "code",
   "execution_count": null,
   "id": "6b1d738f-fe6d-424b-a75e-1b4768b895b3",
   "metadata": {},
   "outputs": [],
   "source": []
  }
 ],
 "metadata": {
  "kernelspec": {
   "display_name": "Python 3 (ipykernel)",
   "language": "python",
   "name": "python3"
  },
  "language_info": {
   "codemirror_mode": {
    "name": "ipython",
    "version": 3
   },
   "file_extension": ".py",
   "mimetype": "text/x-python",
   "name": "python",
   "nbconvert_exporter": "python",
   "pygments_lexer": "ipython3",
   "version": "3.10.0"
  }
 },
 "nbformat": 4,
 "nbformat_minor": 5
}
